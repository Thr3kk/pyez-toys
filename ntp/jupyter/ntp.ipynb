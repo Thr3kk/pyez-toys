{
 "cells": [
  {
   "cell_type": "markdown",
   "metadata": {},
   "source": [
    "# NTP Server Change Tool\n",
    "\n",
    "Super simple tool here guys. In the YAML section, specify your routers & switches where you'd like this change to be made, and add the NTP servers you want pushed out. There's also a section with some login variables for you to set. Once you've done that, go ahead and run the tool."
   ]
  },
  {
   "cell_type": "markdown",
   "metadata": {},
   "source": [
    "## Login Credentials"
   ]
  },
  {
   "cell_type": "code",
   "execution_count": null,
   "metadata": {},
   "outputs": [],
   "source": [
    "user = 'autobot'\n",
    "password = 'juniper123'"
   ]
  },
  {
   "cell_type": "markdown",
   "metadata": {},
   "source": [
    "## System & NTP Server Config (YAML)"
   ]
  },
  {
   "cell_type": "code",
   "execution_count": null,
   "metadata": {},
   "outputs": [],
   "source": [
    "setup_yaml = \"\"\"\n",
    "---\n",
    "hosts:\n",
    "    - router1\n",
    "    - switch1\n",
    "    - switch2\n",
    "\n",
    "servers:\n",
    "    - 10.0.1.20\n",
    "    - 10.0.1.40\n",
    "\"\"\""
   ]
  },
  {
   "cell_type": "markdown",
   "metadata": {},
   "source": [
    "## Nothing to Change Below Here - Output Follows"
   ]
  },
  {
   "cell_type": "code",
   "execution_count": null,
   "metadata": {},
   "outputs": [],
   "source": [
    "from jnpr.junos import Device\n",
    "from jnpr.junos.utils.config import Config\n",
    "from jnpr.junos.exception import *\n",
    "import yaml\n",
    "from jinja2 import Template\n",
    "import sys\n",
    "\n",
    "# Prepare Jinja2 Template\n",
    "ntp_servers_template = \"\"\"\n",
    "system {\n",
    "    ntp {\n",
    "        {% for item in servers %}\n",
    "        server {{ item }};\n",
    "        {% endfor %}\n",
    "    }\n",
    "}\n",
    "\"\"\"\n",
    "j2_template = Template(ntp_servers_template)\n",
    "\n",
    "# Load up YAML Config\n",
    "config = yaml.load(setup_yaml)\n",
    "hosts = config.get('hosts')\n",
    "\n",
    "for host in hosts:\n",
    "    dev = Device(host=host, user=user, password=password)\n",
    "\n",
    "    # Open Connection\n",
    "    try:\n",
    "        dev.open()\n",
    "    except Exception as err:\n",
    "        print(\"Cannot connect to device: {}\".format(err))\n",
    "        sys.exit(0)\n",
    "\n",
    "    dev.bind(cu=Config)\n",
    "\n",
    "    # Lock the configuration, load changes, commit\n",
    "    print(\"Locking the configuration on: {}\".format(host))\n",
    "    try:\n",
    "        dev.cu.lock()\n",
    "    except LockError:\n",
    "        print(\"Error: Unable to lock configuration on: {}\".format(host))\n",
    "        dev.close()\n",
    "        sys.exit(0)\n",
    "\n",
    "    print(\"Loading configuration changes on: {}\".format(host))\n",
    "    try:\n",
    "        # If your devices don't already have NTP configured, comment out\n",
    "        # the next 4 lines\n",
    "        set_commands = \"\"\"\n",
    "        delete system ntp\n",
    "        \"\"\"\n",
    "        dev.cu.load(set_commands, format='set')\n",
    "        dev.cu.load(template=j2_template,\n",
    "                    template_vars=config, format='text', merge=True)\n",
    "    except ValueError as err:\n",
    "        print(err.message)\n",
    "\n",
    "    print(\"Committing the configuration on: {}\".format(host))\n",
    "    try:\n",
    "        dev.cu.commit()\n",
    "        # print dev.cu.diff()\n",
    "    except CommitError:\n",
    "        print(\"Error: Unable to commit configuration\")\n",
    "        print(\"Unlocking the configuration\")\n",
    "        try:\n",
    "            dev.cu.unlock()\n",
    "        except UnlockError:\n",
    "            print(\"Error: Unable to unlock configuration\")\n",
    "        dev.close()\n",
    "        sys.exit(0)\n",
    "\n",
    "    print(\"Unlocking the configuration\")\n",
    "    try:\n",
    "        dev.cu.unlock()\n",
    "    except UnlockError:\n",
    "        print(\"Error: Unable to unlock configuration\")\n",
    "\n",
    "    dev.close()\n",
    "    print(\"-------------------------------------------\")"
   ]
  },
  {
   "cell_type": "code",
   "execution_count": null,
   "metadata": {},
   "outputs": [],
   "source": []
  }
 ],
 "metadata": {
  "kernelspec": {
   "display_name": "Python 3",
   "language": "python",
   "name": "python3"
  },
  "language_info": {
   "codemirror_mode": {
    "name": "ipython",
    "version": 3
   },
   "file_extension": ".py",
   "mimetype": "text/x-python",
   "name": "python",
   "nbconvert_exporter": "python",
   "pygments_lexer": "ipython3",
   "version": "3.6.5"
  }
 },
 "nbformat": 4,
 "nbformat_minor": 2
}
